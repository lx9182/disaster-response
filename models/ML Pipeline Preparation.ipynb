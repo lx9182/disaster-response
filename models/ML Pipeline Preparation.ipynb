{
 "cells": [
  {
   "cell_type": "markdown",
   "metadata": {},
   "source": [
    "# ML Pipeline Preparation\n",
    "Follow the instructions below to help you create your ML pipeline.\n",
    "### 1. Import libraries and load data from database.\n",
    "- Import Python libraries\n",
    "- Load dataset from database with [`read_sql_table`](https://pandas.pydata.org/pandas-docs/stable/generated/pandas.read_sql_table.html)\n",
    "- Define feature and target variables X and Y"
   ]
  },
  {
   "cell_type": "code",
   "execution_count": 20,
   "metadata": {},
   "outputs": [
    {
     "name": "stdout",
     "output_type": "stream",
     "text": [
      "[nltk_data] Downloading package punkt to /root/nltk_data...\n",
      "[nltk_data]   Package punkt is already up-to-date!\n",
      "[nltk_data] Downloading package stopwords to /root/nltk_data...\n",
      "[nltk_data]   Package stopwords is already up-to-date!\n"
     ]
    },
    {
     "data": {
      "text/plain": [
       "True"
      ]
     },
     "execution_count": 20,
     "metadata": {},
     "output_type": "execute_result"
    }
   ],
   "source": [
    "# import libraries\n",
    "from sqlalchemy import create_engine\n",
    "import re\n",
    "import numpy as np\n",
    "import pandas as pd\n",
    "import nltk\n",
    "import pickle\n",
    "\n",
    "from nltk.tokenize import word_tokenize\n",
    "from nltk.stem import WordNetLemmatizer\n",
    "from nltk.stem.porter import PorterStemmer\n",
    "from nltk.corpus import stopwords\n",
    "\n",
    "from sklearn.metrics import confusion_matrix, classification_report\n",
    "from sklearn.ensemble import RandomForestClassifier\n",
    "from sklearn.model_selection import train_test_split, GridSearchCV\n",
    "from sklearn.pipeline import Pipeline, FeatureUnion\n",
    "from sklearn.base import BaseEstimator, TransformerMixin\n",
    "from sklearn.feature_extraction.text import CountVectorizer, TfidfTransformer\n",
    "from sklearn.multioutput import MultiOutputClassifier\n",
    "\n",
    "\n",
    "nltk.download('punkt')\n",
    "nltk.download('stopwords')"
   ]
  },
  {
   "cell_type": "code",
   "execution_count": 2,
   "metadata": {},
   "outputs": [],
   "source": [
    "# load data from database\n",
    "engine = create_engine('sqlite:///DisasterResponse.db')\n",
    "df = pd.read_sql('select * from disaster_response', engine)\n",
    "X = df['message']\n",
    "y = df.iloc[:, 4:]"
   ]
  },
  {
   "cell_type": "code",
   "execution_count": 3,
   "metadata": {},
   "outputs": [
    {
     "data": {
      "text/plain": [
       "related                   2\n",
       "request                   1\n",
       "offer                     1\n",
       "aid_related               1\n",
       "medical_help              1\n",
       "medical_products          1\n",
       "search_and_rescue         1\n",
       "security                  1\n",
       "military                  1\n",
       "child_alone               0\n",
       "water                     1\n",
       "food                      1\n",
       "shelter                   1\n",
       "clothing                  1\n",
       "money                     1\n",
       "missing_people            1\n",
       "refugees                  1\n",
       "death                     1\n",
       "other_aid                 1\n",
       "infrastructure_related    1\n",
       "transport                 1\n",
       "buildings                 1\n",
       "electricity               1\n",
       "tools                     1\n",
       "hospitals                 1\n",
       "shops                     1\n",
       "aid_centers               1\n",
       "other_infrastructure      1\n",
       "weather_related           1\n",
       "floods                    1\n",
       "storm                     1\n",
       "fire                      1\n",
       "earthquake                1\n",
       "cold                      1\n",
       "other_weather             1\n",
       "direct_report             1\n",
       "dtype: int64"
      ]
     },
     "execution_count": 3,
     "metadata": {},
     "output_type": "execute_result"
    }
   ],
   "source": [
    "y.max()"
   ]
  },
  {
   "cell_type": "code",
   "execution_count": 4,
   "metadata": {
    "scrolled": true
   },
   "outputs": [
    {
     "data": {
      "text/plain": [
       "related                   0\n",
       "request                   0\n",
       "offer                     0\n",
       "aid_related               0\n",
       "medical_help              0\n",
       "medical_products          0\n",
       "search_and_rescue         0\n",
       "security                  0\n",
       "military                  0\n",
       "child_alone               0\n",
       "water                     0\n",
       "food                      0\n",
       "shelter                   0\n",
       "clothing                  0\n",
       "money                     0\n",
       "missing_people            0\n",
       "refugees                  0\n",
       "death                     0\n",
       "other_aid                 0\n",
       "infrastructure_related    0\n",
       "transport                 0\n",
       "buildings                 0\n",
       "electricity               0\n",
       "tools                     0\n",
       "hospitals                 0\n",
       "shops                     0\n",
       "aid_centers               0\n",
       "other_infrastructure      0\n",
       "weather_related           0\n",
       "floods                    0\n",
       "storm                     0\n",
       "fire                      0\n",
       "earthquake                0\n",
       "cold                      0\n",
       "other_weather             0\n",
       "direct_report             0\n",
       "dtype: int64"
      ]
     },
     "execution_count": 4,
     "metadata": {},
     "output_type": "execute_result"
    }
   ],
   "source": [
    "y.min()"
   ]
  },
  {
   "cell_type": "markdown",
   "metadata": {},
   "source": [
    "`child_alone` contains only 0 value, so we will drop this column\n",
    "\n",
    "`related` there are some values of 2, it should be 1 or 0, let's investigate"
   ]
  },
  {
   "cell_type": "code",
   "execution_count": 5,
   "metadata": {},
   "outputs": [],
   "source": [
    "y.drop('child_alone', axis=1, inplace=True)"
   ]
  },
  {
   "cell_type": "code",
   "execution_count": 6,
   "metadata": {
    "scrolled": true
   },
   "outputs": [
    {
     "data": {
      "text/html": [
       "<div>\n",
       "<style scoped>\n",
       "    .dataframe tbody tr th:only-of-type {\n",
       "        vertical-align: middle;\n",
       "    }\n",
       "\n",
       "    .dataframe tbody tr th {\n",
       "        vertical-align: top;\n",
       "    }\n",
       "\n",
       "    .dataframe thead th {\n",
       "        text-align: right;\n",
       "    }\n",
       "</style>\n",
       "<table border=\"1\" class=\"dataframe\">\n",
       "  <thead>\n",
       "    <tr style=\"text-align: right;\">\n",
       "      <th></th>\n",
       "      <th>request</th>\n",
       "      <th>offer</th>\n",
       "      <th>aid_related</th>\n",
       "      <th>medical_help</th>\n",
       "      <th>medical_products</th>\n",
       "      <th>search_and_rescue</th>\n",
       "      <th>security</th>\n",
       "      <th>military</th>\n",
       "      <th>water</th>\n",
       "      <th>food</th>\n",
       "      <th>...</th>\n",
       "      <th>aid_centers</th>\n",
       "      <th>other_infrastructure</th>\n",
       "      <th>weather_related</th>\n",
       "      <th>floods</th>\n",
       "      <th>storm</th>\n",
       "      <th>fire</th>\n",
       "      <th>earthquake</th>\n",
       "      <th>cold</th>\n",
       "      <th>other_weather</th>\n",
       "      <th>direct_report</th>\n",
       "    </tr>\n",
       "    <tr>\n",
       "      <th>related</th>\n",
       "      <th></th>\n",
       "      <th></th>\n",
       "      <th></th>\n",
       "      <th></th>\n",
       "      <th></th>\n",
       "      <th></th>\n",
       "      <th></th>\n",
       "      <th></th>\n",
       "      <th></th>\n",
       "      <th></th>\n",
       "      <th></th>\n",
       "      <th></th>\n",
       "      <th></th>\n",
       "      <th></th>\n",
       "      <th></th>\n",
       "      <th></th>\n",
       "      <th></th>\n",
       "      <th></th>\n",
       "      <th></th>\n",
       "      <th></th>\n",
       "      <th></th>\n",
       "    </tr>\n",
       "  </thead>\n",
       "  <tbody>\n",
       "    <tr>\n",
       "      <th>0</th>\n",
       "      <td>6122</td>\n",
       "      <td>6122</td>\n",
       "      <td>6122</td>\n",
       "      <td>6122</td>\n",
       "      <td>6122</td>\n",
       "      <td>6122</td>\n",
       "      <td>6122</td>\n",
       "      <td>6122</td>\n",
       "      <td>6122</td>\n",
       "      <td>6122</td>\n",
       "      <td>...</td>\n",
       "      <td>6122</td>\n",
       "      <td>6122</td>\n",
       "      <td>6122</td>\n",
       "      <td>6122</td>\n",
       "      <td>6122</td>\n",
       "      <td>6122</td>\n",
       "      <td>6122</td>\n",
       "      <td>6122</td>\n",
       "      <td>6122</td>\n",
       "      <td>6122</td>\n",
       "    </tr>\n",
       "    <tr>\n",
       "      <th>1</th>\n",
       "      <td>19906</td>\n",
       "      <td>19906</td>\n",
       "      <td>19906</td>\n",
       "      <td>19906</td>\n",
       "      <td>19906</td>\n",
       "      <td>19906</td>\n",
       "      <td>19906</td>\n",
       "      <td>19906</td>\n",
       "      <td>19906</td>\n",
       "      <td>19906</td>\n",
       "      <td>...</td>\n",
       "      <td>19906</td>\n",
       "      <td>19906</td>\n",
       "      <td>19906</td>\n",
       "      <td>19906</td>\n",
       "      <td>19906</td>\n",
       "      <td>19906</td>\n",
       "      <td>19906</td>\n",
       "      <td>19906</td>\n",
       "      <td>19906</td>\n",
       "      <td>19906</td>\n",
       "    </tr>\n",
       "    <tr>\n",
       "      <th>2</th>\n",
       "      <td>188</td>\n",
       "      <td>188</td>\n",
       "      <td>188</td>\n",
       "      <td>188</td>\n",
       "      <td>188</td>\n",
       "      <td>188</td>\n",
       "      <td>188</td>\n",
       "      <td>188</td>\n",
       "      <td>188</td>\n",
       "      <td>188</td>\n",
       "      <td>...</td>\n",
       "      <td>188</td>\n",
       "      <td>188</td>\n",
       "      <td>188</td>\n",
       "      <td>188</td>\n",
       "      <td>188</td>\n",
       "      <td>188</td>\n",
       "      <td>188</td>\n",
       "      <td>188</td>\n",
       "      <td>188</td>\n",
       "      <td>188</td>\n",
       "    </tr>\n",
       "  </tbody>\n",
       "</table>\n",
       "<p>3 rows × 34 columns</p>\n",
       "</div>"
      ],
      "text/plain": [
       "         request  offer  aid_related  medical_help  medical_products  \\\n",
       "related                                                                \n",
       "0           6122   6122         6122          6122              6122   \n",
       "1          19906  19906        19906         19906             19906   \n",
       "2            188    188          188           188               188   \n",
       "\n",
       "         search_and_rescue  security  military  water   food      ...        \\\n",
       "related                                                           ...         \n",
       "0                     6122      6122      6122   6122   6122      ...         \n",
       "1                    19906     19906     19906  19906  19906      ...         \n",
       "2                      188       188       188    188    188      ...         \n",
       "\n",
       "         aid_centers  other_infrastructure  weather_related  floods  storm  \\\n",
       "related                                                                      \n",
       "0               6122                  6122             6122    6122   6122   \n",
       "1              19906                 19906            19906   19906  19906   \n",
       "2                188                   188              188     188    188   \n",
       "\n",
       "          fire  earthquake   cold  other_weather  direct_report  \n",
       "related                                                          \n",
       "0         6122        6122   6122           6122           6122  \n",
       "1        19906       19906  19906          19906          19906  \n",
       "2          188         188    188            188            188  \n",
       "\n",
       "[3 rows x 34 columns]"
      ]
     },
     "execution_count": 6,
     "metadata": {},
     "output_type": "execute_result"
    }
   ],
   "source": [
    "y.groupby('related').count()"
   ]
  },
  {
   "cell_type": "markdown",
   "metadata": {},
   "source": [
    "`related` has value of 1 much more than value of 0, so we will replace value 2 with value 1"
   ]
  },
  {
   "cell_type": "code",
   "execution_count": 7,
   "metadata": {
    "scrolled": false
   },
   "outputs": [
    {
     "data": {
      "text/html": [
       "<div>\n",
       "<style scoped>\n",
       "    .dataframe tbody tr th:only-of-type {\n",
       "        vertical-align: middle;\n",
       "    }\n",
       "\n",
       "    .dataframe tbody tr th {\n",
       "        vertical-align: top;\n",
       "    }\n",
       "\n",
       "    .dataframe thead th {\n",
       "        text-align: right;\n",
       "    }\n",
       "</style>\n",
       "<table border=\"1\" class=\"dataframe\">\n",
       "  <thead>\n",
       "    <tr style=\"text-align: right;\">\n",
       "      <th></th>\n",
       "      <th>request</th>\n",
       "      <th>offer</th>\n",
       "      <th>aid_related</th>\n",
       "      <th>medical_help</th>\n",
       "      <th>medical_products</th>\n",
       "      <th>search_and_rescue</th>\n",
       "      <th>security</th>\n",
       "      <th>military</th>\n",
       "      <th>water</th>\n",
       "      <th>food</th>\n",
       "      <th>...</th>\n",
       "      <th>aid_centers</th>\n",
       "      <th>other_infrastructure</th>\n",
       "      <th>weather_related</th>\n",
       "      <th>floods</th>\n",
       "      <th>storm</th>\n",
       "      <th>fire</th>\n",
       "      <th>earthquake</th>\n",
       "      <th>cold</th>\n",
       "      <th>other_weather</th>\n",
       "      <th>direct_report</th>\n",
       "    </tr>\n",
       "    <tr>\n",
       "      <th>related</th>\n",
       "      <th></th>\n",
       "      <th></th>\n",
       "      <th></th>\n",
       "      <th></th>\n",
       "      <th></th>\n",
       "      <th></th>\n",
       "      <th></th>\n",
       "      <th></th>\n",
       "      <th></th>\n",
       "      <th></th>\n",
       "      <th></th>\n",
       "      <th></th>\n",
       "      <th></th>\n",
       "      <th></th>\n",
       "      <th></th>\n",
       "      <th></th>\n",
       "      <th></th>\n",
       "      <th></th>\n",
       "      <th></th>\n",
       "      <th></th>\n",
       "      <th></th>\n",
       "    </tr>\n",
       "  </thead>\n",
       "  <tbody>\n",
       "    <tr>\n",
       "      <th>0</th>\n",
       "      <td>6122</td>\n",
       "      <td>6122</td>\n",
       "      <td>6122</td>\n",
       "      <td>6122</td>\n",
       "      <td>6122</td>\n",
       "      <td>6122</td>\n",
       "      <td>6122</td>\n",
       "      <td>6122</td>\n",
       "      <td>6122</td>\n",
       "      <td>6122</td>\n",
       "      <td>...</td>\n",
       "      <td>6122</td>\n",
       "      <td>6122</td>\n",
       "      <td>6122</td>\n",
       "      <td>6122</td>\n",
       "      <td>6122</td>\n",
       "      <td>6122</td>\n",
       "      <td>6122</td>\n",
       "      <td>6122</td>\n",
       "      <td>6122</td>\n",
       "      <td>6122</td>\n",
       "    </tr>\n",
       "    <tr>\n",
       "      <th>1</th>\n",
       "      <td>20094</td>\n",
       "      <td>20094</td>\n",
       "      <td>20094</td>\n",
       "      <td>20094</td>\n",
       "      <td>20094</td>\n",
       "      <td>20094</td>\n",
       "      <td>20094</td>\n",
       "      <td>20094</td>\n",
       "      <td>20094</td>\n",
       "      <td>20094</td>\n",
       "      <td>...</td>\n",
       "      <td>20094</td>\n",
       "      <td>20094</td>\n",
       "      <td>20094</td>\n",
       "      <td>20094</td>\n",
       "      <td>20094</td>\n",
       "      <td>20094</td>\n",
       "      <td>20094</td>\n",
       "      <td>20094</td>\n",
       "      <td>20094</td>\n",
       "      <td>20094</td>\n",
       "    </tr>\n",
       "  </tbody>\n",
       "</table>\n",
       "<p>2 rows × 34 columns</p>\n",
       "</div>"
      ],
      "text/plain": [
       "         request  offer  aid_related  medical_help  medical_products  \\\n",
       "related                                                                \n",
       "0           6122   6122         6122          6122              6122   \n",
       "1          20094  20094        20094         20094             20094   \n",
       "\n",
       "         search_and_rescue  security  military  water   food      ...        \\\n",
       "related                                                           ...         \n",
       "0                     6122      6122      6122   6122   6122      ...         \n",
       "1                    20094     20094     20094  20094  20094      ...         \n",
       "\n",
       "         aid_centers  other_infrastructure  weather_related  floods  storm  \\\n",
       "related                                                                      \n",
       "0               6122                  6122             6122    6122   6122   \n",
       "1              20094                 20094            20094   20094  20094   \n",
       "\n",
       "          fire  earthquake   cold  other_weather  direct_report  \n",
       "related                                                          \n",
       "0         6122        6122   6122           6122           6122  \n",
       "1        20094       20094  20094          20094          20094  \n",
       "\n",
       "[2 rows x 34 columns]"
      ]
     },
     "execution_count": 7,
     "metadata": {},
     "output_type": "execute_result"
    }
   ],
   "source": [
    "y['related'] = y['related'].map(lambda x : 1 if x == 2 else x)\n",
    "y.groupby('related').count()"
   ]
  },
  {
   "cell_type": "markdown",
   "metadata": {},
   "source": [
    "Now we are good to go next"
   ]
  },
  {
   "cell_type": "markdown",
   "metadata": {},
   "source": [
    "### 2. Write a tokenization function to process your text data"
   ]
  },
  {
   "cell_type": "code",
   "execution_count": 8,
   "metadata": {},
   "outputs": [],
   "source": [
    "def tokenize(text):\n",
    "    text = re.sub(r\"[^a-zA-Z0-9]\", \" \", text.lower())\n",
    "    \n",
    "    tokens = word_tokenize(text)\n",
    "    \n",
    "    normlizer = PorterStemmer()\n",
    "    stop_words = stopwords.words(\"english\")\n",
    "    \n",
    "    normlized = [normlizer.stem(word) for word in tokens if word not in stop_words]\n",
    "    \n",
    "    return normlized"
   ]
  },
  {
   "cell_type": "markdown",
   "metadata": {},
   "source": [
    "### 3. Build a machine learning pipeline\n",
    "This machine pipeline should take in the `message` column as input and output classification results on the other 36 categories in the dataset. You may find the [MultiOutputClassifier](http://scikit-learn.org/stable/modules/generated/sklearn.multioutput.MultiOutputClassifier.html) helpful for predicting multiple target variables."
   ]
  },
  {
   "cell_type": "code",
   "execution_count": 9,
   "metadata": {},
   "outputs": [],
   "source": [
    "pipeline = Pipeline([\n",
    "    ('vect', CountVectorizer(tokenizer=tokenize)),\n",
    "    ('tfidf', TfidfTransformer()),\n",
    "    ('clf', MultiOutputClassifier(RandomForestClassifier()))\n",
    "])"
   ]
  },
  {
   "cell_type": "markdown",
   "metadata": {},
   "source": [
    "### 4. Train pipeline\n",
    "- Split data into train and test sets\n",
    "- Train pipeline"
   ]
  },
  {
   "cell_type": "code",
   "execution_count": 10,
   "metadata": {},
   "outputs": [
    {
     "data": {
      "text/plain": [
       "Pipeline(memory=None,\n",
       "     steps=[('vect', CountVectorizer(analyzer='word', binary=False, decode_error='strict',\n",
       "        dtype=<class 'numpy.int64'>, encoding='utf-8', input='content',\n",
       "        lowercase=True, max_df=1.0, max_features=None, min_df=1,\n",
       "        ngram_range=(1, 1), preprocessor=None, stop_words=None,\n",
       "        strip...oob_score=False, random_state=None, verbose=0,\n",
       "            warm_start=False),\n",
       "           n_jobs=1))])"
      ]
     },
     "execution_count": 10,
     "metadata": {},
     "output_type": "execute_result"
    }
   ],
   "source": [
    "X_train, X_test, y_train, y_test = train_test_split(X, y)\n",
    "pipeline.fit(X_train, y_train)"
   ]
  },
  {
   "cell_type": "markdown",
   "metadata": {},
   "source": [
    "### 5. Test your model\n",
    "Report the f1 score, precision and recall for each output category of the dataset. You can do this by iterating through the columns and calling sklearn's `classification_report` on each."
   ]
  },
  {
   "cell_type": "code",
   "execution_count": 11,
   "metadata": {},
   "outputs": [
    {
     "name": "stdout",
     "output_type": "stream",
     "text": [
      "                        precision    recall  f1-score   support\n",
      "\n",
      "               related       0.85      0.91      0.88      5044\n",
      "               request       0.82      0.42      0.56      1155\n",
      "                 offer       0.00      0.00      0.00        30\n",
      "           aid_related       0.75      0.60      0.67      2720\n",
      "          medical_help       0.58      0.10      0.16       531\n",
      "      medical_products       0.72      0.09      0.15       305\n",
      "     search_and_rescue       0.72      0.07      0.13       175\n",
      "              security       0.00      0.00      0.00       110\n",
      "              military       0.56      0.14      0.23       190\n",
      "                 water       0.84      0.27      0.40       391\n",
      "                  food       0.87      0.43      0.57       725\n",
      "               shelter       0.82      0.32      0.46       610\n",
      "              clothing       0.82      0.15      0.25        96\n",
      "                 money       0.56      0.04      0.07       137\n",
      "        missing_people       0.00      0.00      0.00        65\n",
      "              refugees       0.62      0.03      0.07       231\n",
      "                 death       0.66      0.14      0.23       287\n",
      "             other_aid       0.38      0.03      0.06       898\n",
      "infrastructure_related       0.17      0.00      0.00       429\n",
      "             transport       0.65      0.06      0.11       328\n",
      "             buildings       0.70      0.14      0.23       348\n",
      "           electricity       0.73      0.06      0.11       137\n",
      "                 tools       0.00      0.00      0.00        52\n",
      "             hospitals       0.00      0.00      0.00        64\n",
      "                 shops       0.00      0.00      0.00        29\n",
      "           aid_centers       0.00      0.00      0.00        69\n",
      "  other_infrastructure       0.30      0.01      0.02       300\n",
      "       weather_related       0.85      0.63      0.72      1877\n",
      "                floods       0.84      0.32      0.46       542\n",
      "                 storm       0.76      0.36      0.48       658\n",
      "                  fire       0.57      0.06      0.11        66\n",
      "            earthquake       0.90      0.76      0.82       607\n",
      "                  cold       0.83      0.10      0.18       146\n",
      "         other_weather       0.44      0.03      0.06       345\n",
      "         direct_report       0.75      0.31      0.44      1330\n",
      "\n",
      "           avg / total       0.73      0.48      0.54     21027\n",
      "\n"
     ]
    },
    {
     "name": "stderr",
     "output_type": "stream",
     "text": [
      "/opt/conda/lib/python3.6/site-packages/sklearn/metrics/classification.py:1135: UndefinedMetricWarning: Precision and F-score are ill-defined and being set to 0.0 in labels with no predicted samples.\n",
      "  'precision', 'predicted', average, warn_for)\n"
     ]
    }
   ],
   "source": [
    "y_pred = pipeline.predict(X_test)\n",
    "print(classification_report(y_test.values, y_pred, target_names=y.columns.values))"
   ]
  },
  {
   "cell_type": "markdown",
   "metadata": {},
   "source": [
    "### 6. Improve your model\n",
    "Use grid search to find better parameters. "
   ]
  },
  {
   "cell_type": "code",
   "execution_count": 12,
   "metadata": {},
   "outputs": [
    {
     "data": {
      "text/plain": [
       "dict_keys(['memory', 'steps', 'vect', 'tfidf', 'clf', 'vect__analyzer', 'vect__binary', 'vect__decode_error', 'vect__dtype', 'vect__encoding', 'vect__input', 'vect__lowercase', 'vect__max_df', 'vect__max_features', 'vect__min_df', 'vect__ngram_range', 'vect__preprocessor', 'vect__stop_words', 'vect__strip_accents', 'vect__token_pattern', 'vect__tokenizer', 'vect__vocabulary', 'tfidf__norm', 'tfidf__smooth_idf', 'tfidf__sublinear_tf', 'tfidf__use_idf', 'clf__estimator__bootstrap', 'clf__estimator__class_weight', 'clf__estimator__criterion', 'clf__estimator__max_depth', 'clf__estimator__max_features', 'clf__estimator__max_leaf_nodes', 'clf__estimator__min_impurity_decrease', 'clf__estimator__min_impurity_split', 'clf__estimator__min_samples_leaf', 'clf__estimator__min_samples_split', 'clf__estimator__min_weight_fraction_leaf', 'clf__estimator__n_estimators', 'clf__estimator__n_jobs', 'clf__estimator__oob_score', 'clf__estimator__random_state', 'clf__estimator__verbose', 'clf__estimator__warm_start', 'clf__estimator', 'clf__n_jobs'])"
      ]
     },
     "execution_count": 12,
     "metadata": {},
     "output_type": "execute_result"
    }
   ],
   "source": [
    "parameters = pipeline.get_params().keys()\n",
    "parameters"
   ]
  },
  {
   "cell_type": "code",
   "execution_count": 16,
   "metadata": {},
   "outputs": [
    {
     "name": "stdout",
     "output_type": "stream",
     "text": [
      "Fitting 3 folds for each of 2 candidates, totalling 6 fits\n",
      "[CV] clf__estimator__n_estimators=10 .................................\n",
      "[CV] clf__estimator__n_estimators=10 .................................\n",
      "[CV] clf__estimator__n_estimators=10 .................................\n",
      "[CV] clf__estimator__n_estimators=20 .................................\n",
      "[CV] clf__estimator__n_estimators=20 .................................\n",
      "[CV] clf__estimator__n_estimators=20 .................................\n",
      "[CV]  clf__estimator__n_estimators=10, score=0.25007628928898384, total= 6.4min\n",
      "[CV]  clf__estimator__n_estimators=10, score=0.24244736039060116, total= 6.4min\n"
     ]
    },
    {
     "name": "stderr",
     "output_type": "stream",
     "text": [
      "[Parallel(n_jobs=-1)]: Done   2 out of   6 | elapsed:  8.5min remaining: 17.0min\n"
     ]
    },
    {
     "name": "stdout",
     "output_type": "stream",
     "text": [
      "[CV]  clf__estimator__n_estimators=10, score=0.24641440341776014, total= 6.4min\n",
      "[CV]  clf__estimator__n_estimators=20, score=0.2541959108941105, total= 9.2min\n",
      "[CV]  clf__estimator__n_estimators=20, score=0.24702471772963075, total= 9.2min\n",
      "[CV]  clf__estimator__n_estimators=20, score=0.25755263960939884, total= 9.2min\n"
     ]
    },
    {
     "name": "stderr",
     "output_type": "stream",
     "text": [
      "[Parallel(n_jobs=-1)]: Done   6 out of   6 | elapsed: 10.3min finished\n"
     ]
    },
    {
     "data": {
      "text/plain": [
       "GridSearchCV(cv=None, error_score='raise',\n",
       "       estimator=Pipeline(memory=None,\n",
       "     steps=[('vect', CountVectorizer(analyzer='word', binary=False, decode_error='strict',\n",
       "        dtype=<class 'numpy.int64'>, encoding='utf-8', input='content',\n",
       "        lowercase=True, max_df=1.0, max_features=None, min_df=1,\n",
       "        ngram_range=(1, 1), preprocessor=None, stop_words=None,\n",
       "        strip...oob_score=False, random_state=None, verbose=0,\n",
       "            warm_start=False),\n",
       "           n_jobs=1))]),\n",
       "       fit_params=None, iid=True, n_jobs=-1,\n",
       "       param_grid={'clf__estimator__n_estimators': [10, 20]},\n",
       "       pre_dispatch='2*n_jobs', refit=True, return_train_score='warn',\n",
       "       scoring=None, verbose=3)"
      ]
     },
     "execution_count": 16,
     "metadata": {},
     "output_type": "execute_result"
    }
   ],
   "source": [
    "parameters = {\n",
    "    'clf__estimator__n_estimators': [10, 20]\n",
    "}\n",
    "cv = GridSearchCV(pipeline, param_grid=parameters, n_jobs=-1, verbose=3)\n",
    "cv.fit(X_train, y_train)"
   ]
  },
  {
   "cell_type": "markdown",
   "metadata": {},
   "source": [
    "### 7. Test your model\n",
    "Show the accuracy, precision, and recall of the tuned model.  \n",
    "\n",
    "Since this project focuses on code quality, process, and  pipelines, there is no minimum performance metric needed to pass. However, make sure to fine tune your models for accuracy, precision and recall to make your project stand out - especially for your portfolio!"
   ]
  },
  {
   "cell_type": "code",
   "execution_count": 18,
   "metadata": {},
   "outputs": [
    {
     "name": "stdout",
     "output_type": "stream",
     "text": [
      "                        precision    recall  f1-score   support\n",
      "\n",
      "               related       0.85      0.94      0.89      5044\n",
      "               request       0.80      0.47      0.59      1155\n",
      "                 offer       0.00      0.00      0.00        30\n",
      "           aid_related       0.76      0.64      0.69      2720\n",
      "          medical_help       0.62      0.12      0.20       531\n",
      "      medical_products       0.80      0.09      0.16       305\n",
      "     search_and_rescue       0.86      0.07      0.13       175\n",
      "              security       0.20      0.01      0.02       110\n",
      "              military       0.60      0.06      0.11       190\n",
      "                 water       0.85      0.40      0.55       391\n",
      "                  food       0.86      0.57      0.69       725\n",
      "               shelter       0.84      0.30      0.44       610\n",
      "              clothing       0.79      0.11      0.20        96\n",
      "                 money       0.67      0.01      0.03       137\n",
      "        missing_people       0.50      0.02      0.03        65\n",
      "              refugees       0.67      0.07      0.13       231\n",
      "                 death       0.80      0.18      0.30       287\n",
      "             other_aid       0.52      0.04      0.07       898\n",
      "infrastructure_related       0.33      0.00      0.00       429\n",
      "             transport       0.58      0.05      0.10       328\n",
      "             buildings       0.74      0.09      0.16       348\n",
      "           electricity       0.64      0.05      0.09       137\n",
      "                 tools       0.00      0.00      0.00        52\n",
      "             hospitals       0.00      0.00      0.00        64\n",
      "                 shops       0.00      0.00      0.00        29\n",
      "           aid_centers       0.00      0.00      0.00        69\n",
      "  other_infrastructure       0.00      0.00      0.00       300\n",
      "       weather_related       0.87      0.67      0.75      1877\n",
      "                floods       0.88      0.36      0.51       542\n",
      "                 storm       0.80      0.45      0.58       658\n",
      "                  fire       0.00      0.00      0.00        66\n",
      "            earthquake       0.89      0.75      0.82       607\n",
      "                  cold       0.73      0.08      0.14       146\n",
      "         other_weather       0.52      0.04      0.08       345\n",
      "         direct_report       0.75      0.33      0.46      1330\n",
      "\n",
      "           avg / total       0.75      0.51      0.56     21027\n",
      "\n"
     ]
    },
    {
     "name": "stderr",
     "output_type": "stream",
     "text": [
      "/opt/conda/lib/python3.6/site-packages/sklearn/metrics/classification.py:1135: UndefinedMetricWarning: Precision and F-score are ill-defined and being set to 0.0 in labels with no predicted samples.\n",
      "  'precision', 'predicted', average, warn_for)\n"
     ]
    }
   ],
   "source": [
    "y_pred = cv.predict(X_test)\n",
    "print(classification_report(y_test.values, y_pred, target_names=y.columns.values))"
   ]
  },
  {
   "cell_type": "markdown",
   "metadata": {},
   "source": [
    "### 8. Try improving your model further. Here are a few ideas:\n",
    "* try other machine learning algorithms\n",
    "* add other features besides the TF-IDF"
   ]
  },
  {
   "cell_type": "code",
   "execution_count": null,
   "metadata": {},
   "outputs": [],
   "source": []
  },
  {
   "cell_type": "markdown",
   "metadata": {},
   "source": [
    "### 9. Export your model as a pickle file"
   ]
  },
  {
   "cell_type": "code",
   "execution_count": 21,
   "metadata": {},
   "outputs": [],
   "source": [
    "pickle.dump(cv, open('model.pkl', 'wb'))"
   ]
  },
  {
   "cell_type": "markdown",
   "metadata": {},
   "source": [
    "### 10. Use this notebook to complete `train.py`\n",
    "Use the template file attached in the Resources folder to write a script that runs the steps above to create a database and export a model based on a new dataset specified by the user."
   ]
  },
  {
   "cell_type": "code",
   "execution_count": null,
   "metadata": {},
   "outputs": [],
   "source": []
  }
 ],
 "metadata": {
  "kernelspec": {
   "display_name": "Python 3",
   "language": "python",
   "name": "python3"
  },
  "language_info": {
   "codemirror_mode": {
    "name": "ipython",
    "version": 3
   },
   "file_extension": ".py",
   "mimetype": "text/x-python",
   "name": "python",
   "nbconvert_exporter": "python",
   "pygments_lexer": "ipython3",
   "version": "3.6.3"
  }
 },
 "nbformat": 4,
 "nbformat_minor": 2
}
